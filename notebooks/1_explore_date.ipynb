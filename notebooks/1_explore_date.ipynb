{
 "cells": [
  {
   "cell_type": "code",
   "execution_count": 1,
   "id": "8c42144b",
   "metadata": {},
   "outputs": [],
   "source": [
    "import pandas as pd"
   ]
  },
  {
   "cell_type": "code",
   "execution_count": 3,
   "id": "dc38f3d9",
   "metadata": {},
   "outputs": [
    {
     "name": "stdout",
     "output_type": "stream",
     "text": [
      "<class 'pandas.core.frame.DataFrame'>\n",
      "RangeIndex: 100 entries, 0 to 99\n",
      "Data columns (total 15 columns):\n",
      " #   Column               Non-Null Count  Dtype  \n",
      "---  ------               --------------  -----  \n",
      " 0   id                   100 non-null    int64  \n",
      " 1   user_id              100 non-null    int64  \n",
      " 2   version_no           100 non-null    int64  \n",
      " 3   name                 100 non-null    object \n",
      " 4   description          99 non-null     object \n",
      " 5   created_at           100 non-null    object \n",
      " 6   updated_at           100 non-null    object \n",
      " 7   applications         100 non-null    object \n",
      " 8   categories           100 non-null    object \n",
      " 9   business_objects     100 non-null    object \n",
      " 10  runnable             100 non-null    bool   \n",
      " 11  running              100 non-null    bool   \n",
      " 12  job_succeeded_count  100 non-null    int64  \n",
      " 13  job_failed_count     100 non-null    int64  \n",
      " 14  parent_id            69 non-null     float64\n",
      "dtypes: bool(2), float64(1), int64(5), object(7)\n",
      "memory usage: 10.5+ KB\n"
     ]
    }
   ],
   "source": [
    "df = pd.read_csv('../data/workflow_data.csv')\n",
    "\n",
    "df.info()"
   ]
  },
  {
   "cell_type": "markdown",
   "id": "7c850f59",
   "metadata": {},
   "source": [
    "# Data Profiling"
   ]
  },
  {
   "cell_type": "markdown",
   "id": "d8276d71",
   "metadata": {},
   "source": [
    "### Missingness & Uniqueness Analysis"
   ]
  },
  {
   "cell_type": "code",
   "execution_count": 4,
   "id": "773418d7",
   "metadata": {},
   "outputs": [
    {
     "name": "stdout",
     "output_type": "stream",
     "text": [
      "                     Unique Count  NaN Count\n",
      "runnable                        1          0\n",
      "running                         2          0\n",
      "job_failed_count                7          0\n",
      "version_no                     14          0\n",
      "job_succeeded_count            19          0\n",
      "business_objects               52          0\n",
      "user_id                        57          0\n",
      "categories                     57          0\n",
      "parent_id                      62         31\n",
      "description                    63          1\n",
      "applications                   73          0\n",
      "name                           84          0\n",
      "id                            100          0\n",
      "created_at                    100          0\n",
      "updated_at                    100          0\n"
     ]
    }
   ],
   "source": [
    "na_counts = df.isna().sum()\n",
    "unique_counts = df.nunique()\n",
    "na_summary = pd.DataFrame({'Unique Count': unique_counts,'NaN Count': na_counts})\n",
    "na_summary_sorted = na_summary.sort_values(by='Unique Count', ascending=True)\n",
    "print(na_summary_sorted)\n"
   ]
  },
  {
   "cell_type": "markdown",
   "id": "7b59263b",
   "metadata": {},
   "source": [
    "### Duplicate checks"
   ]
  },
  {
   "cell_type": "code",
   "execution_count": 7,
   "id": "d8ec06a3",
   "metadata": {},
   "outputs": [
    {
     "name": "stdout",
     "output_type": "stream",
     "text": [
      "Number of duplicate rows: 0\n"
     ]
    }
   ],
   "source": [
    "dupes = df.duplicated().sum()\n",
    "print(f'Number of duplicate rows: {dupes}')\n"
   ]
  },
  {
   "cell_type": "markdown",
   "id": "8ca2baa2",
   "metadata": {},
   "source": [
    "### Descriptive Stats"
   ]
  },
  {
   "cell_type": "code",
   "execution_count": 8,
   "id": "e6f09a52",
   "metadata": {},
   "outputs": [
    {
     "data": {
      "text/html": [
       "<div>\n",
       "<style scoped>\n",
       "    .dataframe tbody tr th:only-of-type {\n",
       "        vertical-align: middle;\n",
       "    }\n",
       "\n",
       "    .dataframe tbody tr th {\n",
       "        vertical-align: top;\n",
       "    }\n",
       "\n",
       "    .dataframe thead th {\n",
       "        text-align: right;\n",
       "    }\n",
       "</style>\n",
       "<table border=\"1\" class=\"dataframe\">\n",
       "  <thead>\n",
       "    <tr style=\"text-align: right;\">\n",
       "      <th></th>\n",
       "      <th>id</th>\n",
       "      <th>user_id</th>\n",
       "      <th>version_no</th>\n",
       "      <th>job_succeeded_count</th>\n",
       "      <th>job_failed_count</th>\n",
       "      <th>parent_id</th>\n",
       "    </tr>\n",
       "  </thead>\n",
       "  <tbody>\n",
       "    <tr>\n",
       "      <th>count</th>\n",
       "      <td>1.000000e+02</td>\n",
       "      <td>100.000000</td>\n",
       "      <td>100.00000</td>\n",
       "      <td>100.000000</td>\n",
       "      <td>100.000000</td>\n",
       "      <td>69.000000</td>\n",
       "    </tr>\n",
       "    <tr>\n",
       "      <th>mean</th>\n",
       "      <td>8.703324e+06</td>\n",
       "      <td>53499.210000</td>\n",
       "      <td>3.69000</td>\n",
       "      <td>83.680000</td>\n",
       "      <td>0.750000</td>\n",
       "      <td>569770.304348</td>\n",
       "    </tr>\n",
       "    <tr>\n",
       "      <th>std</th>\n",
       "      <td>9.838677e+05</td>\n",
       "      <td>21067.741583</td>\n",
       "      <td>5.57537</td>\n",
       "      <td>460.282344</td>\n",
       "      <td>3.508647</td>\n",
       "      <td>300989.698078</td>\n",
       "    </tr>\n",
       "    <tr>\n",
       "      <th>min</th>\n",
       "      <td>1.890806e+06</td>\n",
       "      <td>168.000000</td>\n",
       "      <td>1.00000</td>\n",
       "      <td>0.000000</td>\n",
       "      <td>0.000000</td>\n",
       "      <td>331.000000</td>\n",
       "    </tr>\n",
       "    <tr>\n",
       "      <th>25%</th>\n",
       "      <td>8.830700e+06</td>\n",
       "      <td>40990.000000</td>\n",
       "      <td>1.00000</td>\n",
       "      <td>0.000000</td>\n",
       "      <td>0.000000</td>\n",
       "      <td>382637.000000</td>\n",
       "    </tr>\n",
       "    <tr>\n",
       "      <th>50%</th>\n",
       "      <td>8.830749e+06</td>\n",
       "      <td>64555.500000</td>\n",
       "      <td>1.00000</td>\n",
       "      <td>0.000000</td>\n",
       "      <td>0.000000</td>\n",
       "      <td>493056.000000</td>\n",
       "    </tr>\n",
       "    <tr>\n",
       "      <th>75%</th>\n",
       "      <td>8.830798e+06</td>\n",
       "      <td>69927.000000</td>\n",
       "      <td>3.00000</td>\n",
       "      <td>1.000000</td>\n",
       "      <td>0.000000</td>\n",
       "      <td>888537.000000</td>\n",
       "    </tr>\n",
       "    <tr>\n",
       "      <th>max</th>\n",
       "      <td>9.890804e+06</td>\n",
       "      <td>72284.000000</td>\n",
       "      <td>37.00000</td>\n",
       "      <td>3748.000000</td>\n",
       "      <td>23.000000</td>\n",
       "      <td>904879.000000</td>\n",
       "    </tr>\n",
       "  </tbody>\n",
       "</table>\n",
       "</div>"
      ],
      "text/plain": [
       "                 id       user_id  version_no  job_succeeded_count  \\\n",
       "count  1.000000e+02    100.000000   100.00000           100.000000   \n",
       "mean   8.703324e+06  53499.210000     3.69000            83.680000   \n",
       "std    9.838677e+05  21067.741583     5.57537           460.282344   \n",
       "min    1.890806e+06    168.000000     1.00000             0.000000   \n",
       "25%    8.830700e+06  40990.000000     1.00000             0.000000   \n",
       "50%    8.830749e+06  64555.500000     1.00000             0.000000   \n",
       "75%    8.830798e+06  69927.000000     3.00000             1.000000   \n",
       "max    9.890804e+06  72284.000000    37.00000          3748.000000   \n",
       "\n",
       "       job_failed_count      parent_id  \n",
       "count        100.000000      69.000000  \n",
       "mean           0.750000  569770.304348  \n",
       "std            3.508647  300989.698078  \n",
       "min            0.000000     331.000000  \n",
       "25%            0.000000  382637.000000  \n",
       "50%            0.000000  493056.000000  \n",
       "75%            0.000000  888537.000000  \n",
       "max           23.000000  904879.000000  "
      ]
     },
     "execution_count": 8,
     "metadata": {},
     "output_type": "execute_result"
    }
   ],
   "source": [
    "df.describe()\n"
   ]
  },
  {
   "cell_type": "code",
   "execution_count": 13,
   "id": "d139535a",
   "metadata": {},
   "outputs": [
    {
     "data": {
      "image/png": "[encoded data removed]",
      "text/plain": [
       "<Figure size 640x480 with 1 Axes>"
      ]
     },
     "metadata": {},
     "output_type": "display_data"
    },
    {
     "data": {
      "image/png": "[encoded data removed]",
      "text/plain": [
       "<Figure size 640x480 with 1 Axes>"
      ]
     },
     "metadata": {},
     "output_type": "display_data"
    },
    {
     "data": {
      "image/png": "[encoded data removed]",
      "text/plain": [
       "<Figure size 640x480 with 1 Axes>"
      ]
     },
     "metadata": {},
     "output_type": "display_data"
    }
   ],
   "source": [
    "import matplotlib.pyplot as plt\n",
    "\n",
    "col_numeric = ['job_failed_count', 'job_succeeded_count', 'version_no']\n",
    "\n",
    "for col in col_numeric:\n",
    "    plt.figure()                    # start a new figure\n",
    "    df[col].hist()                  # plot the histogram\n",
    "    plt.title(col)                  # optional: label it\n",
    "    plt.xlabel(col)\n",
    "    plt.ylabel(\"Frequency\")\n",
    "    plt.show()                      \n"
   ]
  },
  {
   "cell_type": "markdown",
   "id": "498d2d66",
   "metadata": {},
   "source": [
    "### Text & length profiling"
   ]
  },
  {
   "cell_type": "code",
   "execution_count": 12,
   "id": "a95c0776",
   "metadata": {},
   "outputs": [
    {
     "data": {
      "text/html": [
       "<div>\n",
       "<style scoped>\n",
       "    .dataframe tbody tr th:only-of-type {\n",
       "        vertical-align: middle;\n",
       "    }\n",
       "\n",
       "    .dataframe tbody tr th {\n",
       "        vertical-align: top;\n",
       "    }\n",
       "\n",
       "    .dataframe thead th {\n",
       "        text-align: right;\n",
       "    }\n",
       "</style>\n",
       "<table border=\"1\" class=\"dataframe\">\n",
       "  <thead>\n",
       "    <tr style=\"text-align: right;\">\n",
       "      <th></th>\n",
       "      <th>desc_len</th>\n",
       "      <th>name_len</th>\n",
       "    </tr>\n",
       "  </thead>\n",
       "  <tbody>\n",
       "    <tr>\n",
       "      <th>count</th>\n",
       "      <td>100.000000</td>\n",
       "      <td>100.00000</td>\n",
       "    </tr>\n",
       "    <tr>\n",
       "      <th>mean</th>\n",
       "      <td>238.350000</td>\n",
       "      <td>47.79000</td>\n",
       "    </tr>\n",
       "    <tr>\n",
       "      <th>std</th>\n",
       "      <td>585.044147</td>\n",
       "      <td>24.67866</td>\n",
       "    </tr>\n",
       "    <tr>\n",
       "      <th>min</th>\n",
       "      <td>0.000000</td>\n",
       "      <td>10.00000</td>\n",
       "    </tr>\n",
       "    <tr>\n",
       "      <th>25%</th>\n",
       "      <td>40.000000</td>\n",
       "      <td>26.75000</td>\n",
       "    </tr>\n",
       "    <tr>\n",
       "      <th>50%</th>\n",
       "      <td>68.500000</td>\n",
       "      <td>48.50000</td>\n",
       "    </tr>\n",
       "    <tr>\n",
       "      <th>75%</th>\n",
       "      <td>92.250000</td>\n",
       "      <td>64.25000</td>\n",
       "    </tr>\n",
       "    <tr>\n",
       "      <th>max</th>\n",
       "      <td>3638.000000</td>\n",
       "      <td>142.00000</td>\n",
       "    </tr>\n",
       "  </tbody>\n",
       "</table>\n",
       "</div>"
      ],
      "text/plain": [
       "          desc_len   name_len\n",
       "count   100.000000  100.00000\n",
       "mean    238.350000   47.79000\n",
       "std     585.044147   24.67866\n",
       "min       0.000000   10.00000\n",
       "25%      40.000000   26.75000\n",
       "50%      68.500000   48.50000\n",
       "75%      92.250000   64.25000\n",
       "max    3638.000000  142.00000"
      ]
     },
     "execution_count": 12,
     "metadata": {},
     "output_type": "execute_result"
    }
   ],
   "source": [
    "df['desc_len'] = df['description'].fillna('').str.len()\n",
    "df['name_len'] = df['name'].str.len()\n",
    "df[['desc_len','name_len']].describe()"
   ]
  },
  {
   "cell_type": "markdown",
   "id": "2fae16a2",
   "metadata": {},
   "source": [
    "### Multi-field analysis"
   ]
  },
  {
   "cell_type": "code",
   "execution_count": null,
   "id": "7c96b7ef",
   "metadata": {},
   "outputs": [
    {
     "name": "stdout",
     "output_type": "stream",
     "text": [
      "5 rows with an empty element\n",
      "   applications applications_list\n",
      "16                             []\n",
      "47                             []\n",
      "89                             []\n",
      "92                             []\n",
      "99                             []\n"
     ]
    }
   ],
   "source": [
    "df['applications_list'] = (\n",
    "    df['applications']\n",
    "      .str.strip('{}')\n",
    "      .str.split(',')\n",
    "      .apply(lambda lst: sorted(set(x.strip() for x in lst)))\n",
    ")\n",
    "\n",
    "unique_apps = set(df['applications_list'].explode())\n",
    "print(unique_apps)\n",
    "\n",
    "app_counts = df['applications_list'] \\\n",
    "                .explode() \\\n",
    "                .value_counts() \\\n",
    "                .sort_index()\n",
    "print(app_counts)\n",
    "\n",
    "df.drop(columns=['applications_list'], inplace=True)\n"
   ]
  },
  {
   "cell_type": "code",
   "execution_count": null,
   "id": "182c5882",
   "metadata": {},
   "outputs": [
    {
     "name": "stdout",
     "output_type": "stream",
     "text": [
      "27 rows with an empty element\n",
      "   business_objects business_objects_list\n",
      "6                {}                    []\n",
      "7                {}                    []\n",
      "8                {}                    []\n",
      "10               {}                    []\n",
      "12               {}                    []\n",
      "13               {}                    []\n",
      "14               {}                    []\n",
      "16               {}                    []\n",
      "19               {}                    []\n",
      "20               {}                    []\n",
      "23               {}                    []\n",
      "28               {}                    []\n",
      "39               {}                    []\n",
      "47               {}                    []\n",
      "48               {}                    []\n",
      "53               {}                    []\n",
      "54               {}                    []\n",
      "56               {}                    []\n",
      "63               {}                    []\n",
      "66               {}                    []\n",
      "81               {}                    []\n",
      "84               {}                    []\n",
      "88               {}                    []\n",
      "89               {}                    []\n",
      "91               {}                    []\n",
      "92               {}                    []\n",
      "99               {}                    []\n"
     ]
    }
   ],
   "source": [
    "df['business_objects_list'] = (\n",
    "    df['business_objects']\n",
    "      .str.strip('{}')\n",
    "      .str.split(',')\n",
    "      .apply(lambda lst: sorted(set(x.strip() for x in lst)))\n",
    ")\n",
    "\n",
    "unique_objs = set(df['business_objects_list'].explode())\n",
    "print(unique_objs)\n",
    "\n",
    "obj_counts = df['business_objects_list'] \\\n",
    "                .explode() \\\n",
    "                .value_counts() \\\n",
    "                .sort_index()\n",
    "print(obj_counts)\n",
    "\n",
    "df.drop(columns=['business_objects_list'], inplace=True)\n"
   ]
  },
  {
   "cell_type": "code",
   "execution_count": 27,
   "id": "246f3cab",
   "metadata": {},
   "outputs": [
    {
     "name": "stdout",
     "output_type": "stream",
     "text": [
      "{'\"API Integration\"', '', 'Collaboration', 'Database', 'ERP', '\"Time and Expense\"', '\"Financial Management\"', 'Communication', 'Ecommerce', 'Document/File', '\"Customer Service\"', '\"HR management\"', '\"Project Management\"', 'Productivity', '\"Artificial Intelligence\"', 'CRM', 'Marketing', 'Bots', '\"Event management\"', '\"Developer Tool\"', '\"File Transfer\"', 'Accounting', '\"Data Parser\"', '\"Recipe Tools\"'}\n",
      "                              5\n",
      "\"API Integration\"            14\n",
      "\"Artificial Intelligence\"    31\n",
      "\"Customer Service\"            7\n",
      "\"Data Parser\"                 6\n",
      "\"Developer Tool\"             20\n",
      "\"Event management\"            2\n",
      "\"File Transfer\"               1\n",
      "\"Financial Management\"        2\n",
      "\"HR management\"               3\n",
      "\"Project Management\"         16\n",
      "\"Recipe Tools\"               42\n",
      "\"Time and Expense\"            7\n",
      "Accounting                   14\n",
      "Bots                         31\n",
      "CRM                          34\n",
      "Collaboration                 1\n",
      "Communication                 1\n",
      "Database                      6\n",
      "Document/File                17\n",
      "ERP                           3\n",
      "Ecommerce                     1\n",
      "Marketing                    34\n",
      "Productivity                  4\n",
      "Name: categories_list, dtype: int64\n"
     ]
    }
   ],
   "source": [
    "df['categories_list'] = (\n",
    "    df['categories']\n",
    "      .str.strip('{}')\n",
    "      .str.split(',')\n",
    "      .apply(lambda lst: sorted(set(x.strip() for x in lst)))\n",
    ")\n",
    "\n",
    "unique_objs = set(df['categories_list'].explode())\n",
    "print(unique_objs)\n",
    "\n",
    "obj_counts = df['categories_list'] \\\n",
    "                .explode() \\\n",
    "                .value_counts() \\\n",
    "                .sort_index()\n",
    "print(obj_counts)\n",
    "\n",
    "df.drop(columns=['categories_list'], inplace=True)\n"
   ]
  },
  {
   "cell_type": "code",
   "execution_count": null,
   "id": "c950d914",
   "metadata": {},
   "outputs": [],
   "source": []
  }
 ],
 "metadata": {
  "kernelspec": {
   "display_name": "base",
   "language": "python",
   "name": "python3"
  },
  "language_info": {
   "codemirror_mode": {
    "name": "ipython",
    "version": 3
   },
   "file_extension": ".py",
   "mimetype": "text/x-python",
   "name": "python",
   "nbconvert_exporter": "python",
   "pygments_lexer": "ipython3",
   "version": "3.11.4"
  }
 },
 "nbformat": 4,
 "nbformat_minor": 5
}
